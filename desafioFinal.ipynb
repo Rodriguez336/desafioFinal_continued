{
 "cells": [
  {
   "cell_type": "markdown",
   "metadata": {},
   "source": [
    "1. Análise Exploratória\n",
    "\n",
    "• Valor total vendido e Valor total da meta por ano?\n",
    "\n",
    "• Crie um gráfico de linhas para exibir o comportamento das vendas ao\n",
    "longo do ano de 2021.\n",
    "\n",
    "• Quantos clientes ativos e inativos temos em nossa empresa?\n",
    "\n",
    "• Qual a linha de produtos mais vendida?\n",
    "\n",
    "• Qual foi a quantidade total de produtos vendidos por ano?\n",
    "\n",
    "• Qual foi o total de peso em toneladas dos produtos vendidos em todo o\n",
    "período?\n",
    "\n",
    "• Comparando a performance por gerente, qual dos gerentes teve o maior\n",
    "faturamento? Qual o percentual relativo a esse faturamento?\n",
    "\n",
    "• Qual equipe teve a melhor performance de vendas?"
   ]
  },
  {
   "cell_type": "code",
   "execution_count": 16,
   "metadata": {},
   "outputs": [
    {
     "name": "stderr",
     "output_type": "stream",
     "text": [
      "c:\\Python311\\Lib\\site-packages\\seaborn\\_oldcore.py:1498: FutureWarning: is_categorical_dtype is deprecated and will be removed in a future version. Use isinstance(dtype, CategoricalDtype) instead\n",
      "  if pd.api.types.is_categorical_dtype(vector):\n",
      "c:\\Python311\\Lib\\site-packages\\seaborn\\_oldcore.py:1498: FutureWarning: is_categorical_dtype is deprecated and will be removed in a future version. Use isinstance(dtype, CategoricalDtype) instead\n",
      "  if pd.api.types.is_categorical_dtype(vector):\n",
      "c:\\Python311\\Lib\\site-packages\\seaborn\\_oldcore.py:1498: FutureWarning: is_categorical_dtype is deprecated and will be removed in a future version. Use isinstance(dtype, CategoricalDtype) instead\n",
      "  if pd.api.types.is_categorical_dtype(vector):\n"
     ]
    },
    {
     "data": {
      "text/plain": [
       "Text(0, 0.5, 'Vendas')"
      ]
     },
     "execution_count": 16,
     "metadata": {},
     "output_type": "execute_result"
    },
    {
     "data": {
      "image/png": "[encoded data removed]",
      "text/plain": [
       "<Figure size 640x480 with 1 Axes>"
      ]
     },
     "metadata": {},
     "output_type": "display_data"
    }
   ],
   "source": [
    "import pandas as pd                     # LER E MANIPULAR ARQUIVOS DISTINTOS\n",
    "import os                               # GERENCIAR O SISTEMA OPERACIONAL\n",
    "import matplotlib.pyplot as plt         # VISUALIZAR DADOS DE FORMA GRÁFICA\n",
    "import seaborn as sns                   # VISUALIZAR DADOS DE FORMA GRÁFICA\n",
    "\n",
    "######################## CARREGAR OS ARQUIVOS DE VENDAS ###############################\n",
    "\n",
    "\n",
    "# PASTA QUE CONTÉM TODOS OS ARQUIVOS\n",
    "caminhoDaPasta = './arquivo/vendas/'\n",
    "\n",
    "######## AGRUPAR TODOS OS DOCUMENTOS EM UM ÚNICO DATAFRAME ############\n",
    "\n",
    "diretorios = []         # Lista Vazia\n",
    "\n",
    "# LOCALIZAR OS ARQUIVOS E COMBINAR COM O CAMINHO DA PASTA\n",
    "for file in os.listdir(caminhoDaPasta):\n",
    "    fullPath = caminhoDaPasta + file\n",
    "    diretorios.append(fullPath)\n",
    "    \n",
    "# CRIAR UM DATAFRAME VAZIO\n",
    "dfVendas = pd.DataFrame()\n",
    "\n",
    "# LOOP PARA ACESSAR OS DOCUMENTOS E COMBINÁ-LOS (+/- UNION DO SQL)\n",
    "# ELE COMBINA APENAS OS ARQUIVO COM EXTENSÃO .XLSX\n",
    "\n",
    "for path in diretorios:\n",
    "    if path.endswith('.xlsx'):\n",
    "        df = pd.read_excel(path)\n",
    "        dfVendas = pd.concat([dfVendas,df])\n",
    "    \n",
    "# GERAR UM ARQUIVO CSV COM OS DADOS CONSOLIDADOS\n",
    "dfVendas.to_csv(caminhoDaPasta + 'arquivoCombinado.csv')\n",
    "\n",
    "\n",
    "\n",
    "######################## CARREGAR OS DEMAIS DATAFRAMES ###################################\n",
    "\n",
    "dfMetas = pd.read_excel('./arquivo/base-meta-new.xlsx')\n",
    "dfVendedores = pd.read_excel('./arquivo/Dimensões.xlsx',sheet_name='Vendedor')\n",
    "dfProdutos = pd.read_excel('./arquivo/Dimensões.xlsx',sheet_name='Produto')\n",
    "dfDatas = pd.read_excel('./arquivo/Dimensões.xlsx',sheet_name='Data')\n",
    "dfGrupoProduto = pd.read_excel('./arquivo/Dimensões.xlsx',sheet_name='GrupoProduto')\n",
    "dfClientes = pd.read_excel('./arquivo/Dimensões.xlsx',sheet_name='Cliente')\n",
    "\n",
    "################# TRATAMENTO DO DATAFRAME METAS ############################\n",
    "\n",
    "# FATIAMENTO DO DATAFRAME\n",
    "dfMetas = dfMetas.iloc[3:,1:4]\n",
    "\n",
    "# RENOMEAR COLUNAS\n",
    "dfMetas.columns = ['cdVendedor','data','meta']\n",
    "\n",
    "dfMetas\n",
    "\n",
    "# MESCLANDO AS TABELAS VENDAS E DATAS COM PD.MERGE\n",
    "\n",
    "df_result = pd.merge(\n",
    "                dfVendas[['DataEmissao','QtdItens','ValorUnitario']],\n",
    "                dfDatas[['Data','Ano']],\n",
    "                left_on='DataEmissao',\n",
    "                right_on='Data'\n",
    "            )\n",
    "\n",
    "# ADICIONAR A COLUNA SUBTOTAL AO DATAFRAME\n",
    "df_result['subtotal'] = df_result['QtdItens'] * df_result['ValorUnitario']\n",
    "\n",
    "# AGRUPAR OS DADOS POR ANO\n",
    "df_result = df_result[['Ano','subtotal']].groupby('Ano').sum().reset_index()\n",
    "\n",
    "# CRIAR O GRÁFICO\n",
    "sns.barplot(\n",
    "    data=df_result,\n",
    "    x = 'Ano',\n",
    "    y = 'subtotal')\n",
    "\n",
    "plt.title('Vendas por ano')\n",
    "plt.xlabel('Anos')\n",
    "plt.ylabel('Vendas')"
   ]
  },
  {
   "cell_type": "code",
   "execution_count": 17,
   "metadata": {},
   "outputs": [
    {
     "data": {
      "text/html": [
       "<div>\n",
       "<style scoped>\n",
       "    .dataframe tbody tr th:only-of-type {\n",
       "        vertical-align: middle;\n",
       "    }\n",
       "\n",
       "    .dataframe tbody tr th {\n",
       "        vertical-align: top;\n",
       "    }\n",
       "\n",
       "    .dataframe thead th {\n",
       "        text-align: right;\n",
       "    }\n",
       "</style>\n",
       "<table border=\"1\" class=\"dataframe\">\n",
       "  <thead>\n",
       "    <tr style=\"text-align: right;\">\n",
       "      <th></th>\n",
       "      <th>cdGrupo</th>\n",
       "      <th>Grupo</th>\n",
       "      <th>Linha</th>\n",
       "    </tr>\n",
       "  </thead>\n",
       "  <tbody>\n",
       "    <tr>\n",
       "      <th>0</th>\n",
       "      <td>102</td>\n",
       "      <td>Leite em Pó</td>\n",
       "      <td>Alimentos</td>\n",
       "    </tr>\n",
       "  </tbody>\n",
       "</table>\n",
       "</div>"
      ],
      "text/plain": [
       "   cdGrupo        Grupo      Linha\n",
       "0      102  Leite em Pó  Alimentos"
      ]
     },
     "execution_count": 17,
     "metadata": {},
     "output_type": "execute_result"
    }
   ],
   "source": [
    "dfGrupoProduto.head(1)"
   ]
  },
  {
   "cell_type": "code",
   "execution_count": 19,
   "metadata": {},
   "outputs": [
    {
     "data": {
      "text/html": [
       "<div>\n",
       "<style scoped>\n",
       "    .dataframe tbody tr th:only-of-type {\n",
       "        vertical-align: middle;\n",
       "    }\n",
       "\n",
       "    .dataframe tbody tr th {\n",
       "        vertical-align: top;\n",
       "    }\n",
       "\n",
       "    .dataframe thead th {\n",
       "        text-align: right;\n",
       "    }\n",
       "</style>\n",
       "<table border=\"1\" class=\"dataframe\">\n",
       "  <thead>\n",
       "    <tr style=\"text-align: right;\">\n",
       "      <th></th>\n",
       "      <th>cdProduto</th>\n",
       "      <th>Descrição</th>\n",
       "      <th>cdGrupo</th>\n",
       "    </tr>\n",
       "  </thead>\n",
       "  <tbody>\n",
       "    <tr>\n",
       "      <th>0</th>\n",
       "      <td>1</td>\n",
       "      <td>Produto 1</td>\n",
       "      <td>9999</td>\n",
       "    </tr>\n",
       "  </tbody>\n",
       "</table>\n",
       "</div>"
      ],
      "text/plain": [
       "   cdProduto  Descrição  cdGrupo\n",
       "0          1  Produto 1     9999"
      ]
     },
     "execution_count": 19,
     "metadata": {},
     "output_type": "execute_result"
    }
   ],
   "source": [
    "dfProdutos.head(1)"
   ]
  },
  {
   "cell_type": "code",
   "execution_count": 34,
   "metadata": {},
   "outputs": [
    {
     "name": "stderr",
     "output_type": "stream",
     "text": [
      "c:\\Python311\\Lib\\site-packages\\seaborn\\_oldcore.py:1498: FutureWarning: is_categorical_dtype is deprecated and will be removed in a future version. Use isinstance(dtype, CategoricalDtype) instead\n",
      "  if pd.api.types.is_categorical_dtype(vector):\n",
      "c:\\Python311\\Lib\\site-packages\\seaborn\\_oldcore.py:1498: FutureWarning: is_categorical_dtype is deprecated and will be removed in a future version. Use isinstance(dtype, CategoricalDtype) instead\n",
      "  if pd.api.types.is_categorical_dtype(vector):\n",
      "c:\\Python311\\Lib\\site-packages\\seaborn\\_oldcore.py:1498: FutureWarning: is_categorical_dtype is deprecated and will be removed in a future version. Use isinstance(dtype, CategoricalDtype) instead\n",
      "  if pd.api.types.is_categorical_dtype(vector):\n"
     ]
    },
    {
     "data": {
      "text/plain": [
       "<Axes: xlabel='Linha', ylabel='QtdItens'>"
      ]
     },
     "execution_count": 34,
     "metadata": {},
     "output_type": "execute_result"
    },
    {
     "data": {
      "image/png": "[encoded data removed]",
      "text/plain": [
       "<Figure size 640x480 with 1 Axes>"
      ]
     },
     "metadata": {},
     "output_type": "display_data"
    }
   ],
   "source": [
    "dfGrupo = pd.merge(\n",
    "                   dfProdutos, \n",
    "                   dfGrupoProduto,\n",
    "                   left_on='cdGrupo',\n",
    "                   right_on='cdGrupo'\n",
    ")\n",
    "\n",
    "df_result = pd.merge(\n",
    "                   dfVendas[['cdProduto','QtdItens']],\n",
    "                   dfGrupo[['cdProduto','Linha']],\n",
    "                   left_on='cdProduto',\n",
    "                   right_on='cdProduto'\n",
    ")\n",
    "\n",
    "df_result = df_result[['Linha', 'QtdItens']].groupby('Linha').sum().reset_index()\n",
    "\n",
    "\n",
    "sns.barplot(\n",
    "    data=df_result,\n",
    "    x = 'Linha',\n",
    "    y = 'QtdItens')\n",
    "\n"
   ]
  }
 ],
 "metadata": {
  "kernelspec": {
   "display_name": "Python 3",
   "language": "python",
   "name": "python3"
  },
  "language_info": {
   "codemirror_mode": {
    "name": "ipython",
    "version": 3
   },
   "file_extension": ".py",
   "mimetype": "text/x-python",
   "name": "python",
   "nbconvert_exporter": "python",
   "pygments_lexer": "ipython3",
   "version": "3.11.0"
  }
 },
 "nbformat": 4,
 "nbformat_minor": 2
}
